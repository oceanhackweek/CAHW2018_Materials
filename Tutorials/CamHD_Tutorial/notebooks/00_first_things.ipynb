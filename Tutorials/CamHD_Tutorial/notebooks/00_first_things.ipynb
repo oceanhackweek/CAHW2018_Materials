{
 "cells": [
  {
   "cell_type": "markdown",
   "metadata": {},
   "source": [
    "# Pangeo First Things"
   ]
  },
  {
   "cell_type": "markdown",
   "metadata": {},
   "source": [
    "#### Log in to a Pangeo system and some install necessary items:"
   ]
  },
  {
   "cell_type": "markdown",
   "metadata": {},
   "source": [
    "1. visit http://pangeo.pydata.org\n",
    "2. log in with your GitHub credentials\n",
    "3. click \"My Server\"\n",
    "4. open a terminal window\n",
    "5. run the following commands:\n",
    "\n",
    "   ```bash\n",
    "   git clone https://github.com/oceanhackweek/cahw2018_camhd.git```\n",
    "   ```bash\n",
    "   cd cahw2018_camhd```\n",
    "   ```bash\n",
    "   ./install```"
   ]
  },
  {
   "cell_type": "code",
   "execution_count": null,
   "metadata": {},
   "outputs": [],
   "source": []
  }
 ],
 "metadata": {
  "language_info": {
   "name": "python",
   "pygments_lexer": "ipython3"
  }
 },
 "nbformat": 4,
 "nbformat_minor": 2
}
