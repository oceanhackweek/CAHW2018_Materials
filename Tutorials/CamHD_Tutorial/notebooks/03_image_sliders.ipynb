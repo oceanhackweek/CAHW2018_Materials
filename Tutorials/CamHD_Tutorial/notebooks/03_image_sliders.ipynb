{
 "cells": [
  {
   "cell_type": "markdown",
   "metadata": {},
   "source": [
    "# Image Sliders\n",
    "\n",
    "This page shows an example of using widgets to interact with frame grabs from the camera. Nearly every frame collected from Deployment #3 is available for viewing, each downloaded from the remote data archive in real-time."
   ]
  },
  {
   "cell_type": "markdown",
   "metadata": {},
   "source": [
    "#### Setup the environment"
   ]
  },
  {
   "cell_type": "code",
   "execution_count": null,
   "metadata": {},
   "outputs": [],
   "source": [
    "%matplotlib inline\n",
    "%config InlineBackend.figure_format = 'svg'\n",
    "import pycamhd.pycamhd as camhd\n",
    "import numpy as np\n",
    "import matplotlib.pyplot as plt"
   ]
  },
  {
   "cell_type": "markdown",
   "metadata": {},
   "source": [
    "#### Get a list of remote CamHD files to process"
   ]
  },
  {
   "cell_type": "code",
   "execution_count": null,
   "metadata": {},
   "outputs": [],
   "source": [
    "filenames = []\n",
    "with open('d3.txt') as f:\n",
    "    for line in f:\n",
    "        filenames.append(line)"
   ]
  },
  {
   "cell_type": "markdown",
   "metadata": {},
   "source": [
    "#### Set up plotting function"
   ]
  },
  {
   "cell_type": "code",
   "execution_count": null,
   "metadata": {},
   "outputs": [],
   "source": [
    "def show_image(file_number, frame_number):\n",
    "    filename = filenames[file_number]\n",
    "    plt.rc('figure', figsize=(10, 5))\n",
    "    plt.rcParams.update({'font.size': 8})\n",
    "    frame = camhd.get_frame(filename, frame_number, 'rgb24')\n",
    "    fig, ax = plt.subplots();\n",
    "    im1 = ax.imshow(frame);\n",
    "    plt.yticks(np.arange(0,1081,270))\n",
    "    plt.xticks(np.arange(0,1921,480))\n",
    "    plt.title('%s (%i:%i)' % (filename[84:].strip(), file_number, frame_number));"
   ]
  },
  {
   "cell_type": "markdown",
   "metadata": {},
   "source": [
    "#### Interact"
   ]
  },
  {
   "cell_type": "code",
   "execution_count": null,
   "metadata": {},
   "outputs": [],
   "source": [
    "from ipywidgets import interact\n",
    "from ipywidgets import IntSlider\n",
    "file_slider = IntSlider(min=0, max=len(filenames)-1, step=1, value=0, continuous_update=False)\n",
    "frame_slider = IntSlider(min=0, max=camhd.get_frame_count(filenames[0]), step=10, value=0, continuous_update=False)\n",
    "\n",
    "def update_range(*args):\n",
    "    frame_slider.max = camhd.get_frame_count(filenames[file_slider.value])-1\n",
    "    if frame_slider.value > frame_slider.max:\n",
    "        frame_slider.value = frame_slider.max\n",
    "file_slider.observe(update_range, 'value')\n",
    "\n",
    "interact(show_image, file_number=file_slider, frame_number=frame_slider);"
   ]
  },
  {
   "cell_type": "markdown",
   "metadata": {},
   "source": [
    "### References\n",
    "\n",
    "PyCamHD: https://github.com/tjcrone/pycamhd<br>\n",
    "CamHDHub: https://github.com/tjcrone/camhdhub<br>\n",
    "Raw Data Archive: https://rawdata.oceanobservatories.org/files/RS03ASHS/PN03B/06-CAMHDA301/<br>"
   ]
  }
 ],
 "metadata": {
  "language_info": {
   "name": "python",
   "pygments_lexer": "ipython3"
  }
 },
 "nbformat": 4,
 "nbformat_minor": 2
}
